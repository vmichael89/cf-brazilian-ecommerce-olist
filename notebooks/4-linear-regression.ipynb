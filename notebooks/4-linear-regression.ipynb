{
 "cells": [
  {
   "cell_type": "markdown",
   "metadata": {},
   "source": [
    "# Table of Contents\n",
    "\n",
    "1. Setup\n",
    "    1. Import\n",
    "    2. Resources\n",
    "    3. Load Data\n",
    "2. Prepare Data\n",
    "3. Hypothesis\n",
    "4. Modelling (Linear Regression)\n",
    "    1. Split Data\n",
    "    2. Build Model\n",
    "    3. Assess Model\n",
    "    4. Evaluate Results"
   ]
  }
 ],
 "metadata": {
  "kernelspec": {
   "display_name": "brazilian-ecommerce-olist",
   "language": "python",
   "name": "python3"
  },
  "language_info": {
   "codemirror_mode": {
    "name": "ipython",
    "version": 3
   },
   "file_extension": ".py",
   "mimetype": "text/x-python",
   "name": "python",
   "nbconvert_exporter": "python",
   "pygments_lexer": "ipython3",
   "version": "3.11.5"
  },
  "orig_nbformat": 4
 },
 "nbformat": 4,
 "nbformat_minor": 2
}
