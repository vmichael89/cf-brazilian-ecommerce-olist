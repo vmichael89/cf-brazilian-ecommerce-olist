{
 "cells": [
  {
   "cell_type": "markdown",
   "metadata": {},
   "source": [
    "# 0 Table of Contents\n",
    "\n",
    "1. [Setup](#1-setup)\n",
    "    1. [Import](#11-imports)\n",
    "    2. [Resources](#12-resources)\n",
    "    3. [Load Data](#13-load-data)\n",
    "2. [Prepare Data](#2-prepare-data)\n",
    "3. [Hypothesis](#3-hypothesis)\n",
    "4. [Modelling (Linear Regression)](#4-modelling-linear-regression)\n",
    "    1. [Split Data](#41-split-data)\n",
    "    2. [Build Model](#42-build-model)\n",
    "    3. [Assess Model](#43-assess-model)\n",
    "    4. [Evaluate Results](#44-evaluate-results)"
   ]
  },
  {
   "cell_type": "markdown",
   "metadata": {},
   "source": [
    "# 1 Setup [(#)](#0-table-of-contents)"
   ]
  },
  {
   "cell_type": "markdown",
   "metadata": {},
   "source": [
    "## 1.1 Imports [(#)](#0-table-of-contents)"
   ]
  },
  {
   "cell_type": "markdown",
   "metadata": {},
   "source": [
    "## 1.2 Resources [(#)](#0-table-of-contents)"
   ]
  },
  {
   "cell_type": "markdown",
   "metadata": {},
   "source": [
    "## 1.3 Load Data [(#)](#0-table-of-contents)"
   ]
  },
  {
   "cell_type": "markdown",
   "metadata": {},
   "source": [
    "# 2 Prepare Data [(#)](#0-table-of-contents)"
   ]
  },
  {
   "cell_type": "markdown",
   "metadata": {},
   "source": [
    "# 3 Hypothesis [(#)](#0-table-of-contents)"
   ]
  },
  {
   "cell_type": "markdown",
   "metadata": {},
   "source": [
    "# 4 Modelling (Linear Regression) [(#)](#0-table-of-contents)"
   ]
  },
  {
   "cell_type": "markdown",
   "metadata": {},
   "source": [
    "## 4.1 Split Data [(#)](#0-table-of-contents)"
   ]
  },
  {
   "cell_type": "markdown",
   "metadata": {},
   "source": [
    "## 4.2 Build Model [(#)](#0-table-of-contents)"
   ]
  },
  {
   "cell_type": "markdown",
   "metadata": {},
   "source": [
    "## 4.3 Assess Model [(#)](#0-table-of-contents)"
   ]
  },
  {
   "cell_type": "markdown",
   "metadata": {},
   "source": [
    "## 4.4 Evaluate Results [(#)](#0-table-of-contents)"
   ]
  }
 ],
 "metadata": {
  "kernelspec": {
   "display_name": "brazilian-ecommerce-olist",
   "language": "python",
   "name": "python3"
  },
  "language_info": {
   "codemirror_mode": {
    "name": "ipython",
    "version": 3
   },
   "file_extension": ".py",
   "mimetype": "text/x-python",
   "name": "python",
   "nbconvert_exporter": "python",
   "pygments_lexer": "ipython3",
   "version": "3.11.5"
  },
  "orig_nbformat": 4
 },
 "nbformat": 4,
 "nbformat_minor": 2
}
