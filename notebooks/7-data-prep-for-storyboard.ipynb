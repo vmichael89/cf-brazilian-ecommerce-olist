{
 "cells": [
  {
   "cell_type": "markdown",
   "metadata": {},
   "source": [
    "# Generate Data for Tableau"
   ]
  },
  {
   "cell_type": "code",
   "execution_count": 34,
   "metadata": {},
   "outputs": [],
   "source": [
    "import sys\n",
    "import os\n",
    "from  pathlib import Path\n",
    "\n",
    "import numpy as np\n",
    "import pandas as pd\n",
    "import matplotlib.pyplot as plt\n",
    "import seaborn as sns\n",
    "\n",
    "sys.path.insert(0, r\"C:\\Users\\vynde\\PycharmProjects\\dataanalysis\")\n",
    "import databridger as da"
   ]
  },
  {
   "cell_type": "code",
   "execution_count": 3,
   "metadata": {},
   "outputs": [],
   "source": [
    "raw_data_folder = Path('..') / 'data' / 'raw'\n",
    "prepared_data_folder = Path('..') / 'data' / 'prepared'"
   ]
  },
  {
   "cell_type": "code",
   "execution_count": 4,
   "metadata": {},
   "outputs": [],
   "source": [
    "customers_df = pd.read_csv(raw_data_folder / 'olist_customers_dataset.csv')\n",
    "geolocation_df = pd.read_csv(raw_data_folder / 'olist_geolocation_dataset.csv')\n",
    "order_items_df = pd.read_csv(raw_data_folder / 'olist_order_items_dataset.csv')\n",
    "order_payments_df = pd.read_csv(raw_data_folder / 'olist_order_payments_dataset.csv')\n",
    "order_reviews_df = pd.read_csv(raw_data_folder / 'olist_order_reviews_dataset.csv')\n",
    "orders_df = pd.read_csv(raw_data_folder / 'olist_orders_dataset.csv')\n",
    "products_df = pd.read_csv(raw_data_folder / 'olist_products_dataset.csv')\n",
    "sellers_df = pd.read_csv(raw_data_folder / 'olist_sellers_dataset.csv')\n",
    "category_translation_df = pd.read_csv(raw_data_folder / 'product_category_name_translation.csv')"
   ]
  },
  {
   "cell_type": "code",
   "execution_count": 5,
   "metadata": {},
   "outputs": [
    {
     "name": "stdout",
     "output_type": "stream",
     "text": [
      "converted:    / shipping_limit_date            from object to datetime64[ns]\n",
      "converted:    / review_creation_date           from object to datetime64[ns]\n",
      "converted:    / review_answer_timestamp        from object to datetime64[ns]\n",
      "converted:    / order_purchase_timestamp       from object to datetime64[ns]\n",
      "converted:    / order_approved_at              from object to datetime64[ns]\n",
      "converted:    / order_delivered_carrier_date   from object to datetime64[ns]\n",
      "converted:    / order_delivered_customer_date  from object to datetime64[ns]\n",
      "converted:    / order_estimated_delivery_date  from object to datetime64[ns]\n"
     ]
    }
   ],
   "source": [
    "for table in [order_items_df, order_reviews_df, orders_df]:\n",
    "    for column in table.columns:\n",
    "        if table[column].dtype == 'object':\n",
    "            if all(table[column].str.match(r\"\\d{4}-\\d{2}-\\d{2} \\d{2}:\\d{2}:\\d{2}\")):\n",
    "                table[column] = pd.to_datetime(table[column])\n",
    "                print(f\"converted:    / {column:30} from object to {table[column].dtype}\")"
   ]
  },
  {
   "cell_type": "code",
   "execution_count": null,
   "metadata": {},
   "outputs": [],
   "source": [
    "geolocation_df.groupby('zipcode_prefix')"
   ]
  },
  {
   "cell_type": "code",
   "execution_count": 19,
   "metadata": {},
   "outputs": [],
   "source": [
    "combined_df = orders_df.merge(customers_df, on='customer_id', how='outer')\\\n",
    "                       .merge(order_items_df, on='order_id', how='outer')\\\n",
    "                       .merge(order_reviews_df, on='order_id', how='outer')\\\n",
    "                       .merge(order_payments_df, on='order_id', how='outer')\\\n",
    "                       .merge(sellers_df, on='seller_id', how='outer')\\\n",
    "                       .merge(products_df, on='product_id', how='outer')\\\n",
    "                       .merge(category_translation_df, on='product_category_name', how='outer')\n",
    "\n",
    "combined_df.to_csv(prepared_data_folder / 'combined.csv', index=False)"
   ]
  },
  {
   "cell_type": "code",
   "execution_count": 20,
   "metadata": {},
   "outputs": [],
   "source": [
    "\n",
    "total_customers = customers_df['customer_unique_id'].nunique()\n",
    "total_orders = orders_df['order_id'].nunique()\n",
    "total_order_items = order_items_df[['order_id', 'order_item_id']].drop_duplicates().shape[0]\n",
    "total_products = products_df['product_id'].nunique()\n",
    "total_sellers = sellers_df['seller_id'].nunique()\n",
    "\n",
    "df_totals = pd.DataFrame(dict(zip(\n",
    "    [\"Entity\", \"Totals\"],\n",
    "    [\n",
    "        ['Customers', 'Orders', 'Items', 'Products', 'Sellers'],\n",
    "        [total_customers, total_orders, total_order_items, total_products, total_sellers]\n",
    "    ])))\n",
    "\n",
    "df_totals.to_csv(prepared_data_folder / 'totals.csv', index=False)"
   ]
  },
  {
   "cell_type": "code",
   "execution_count": 32,
   "metadata": {},
   "outputs": [],
   "source": [
    "payments_daily = combined_df.set_index(\"order_purchase_timestamp\")[[\"payment_value\"]].resample('D').sum().reset_index()\n",
    "\n",
    "payments_daily.to_csv(prepared_data_folder / 'daily_payments.csv', index=False)"
   ]
  },
  {
   "cell_type": "code",
   "execution_count": 22,
   "metadata": {},
   "outputs": [],
   "source": [
    "products_eng_df = products_df.merge(category_translation_df, on='product_category_name')\n",
    "\n",
    "products_eng_df.to_csv(prepared_data_folder / 'products_eng.csv', index=False)"
   ]
  },
  {
   "cell_type": "code",
   "execution_count": 23,
   "metadata": {},
   "outputs": [],
   "source": [
    "products_sales_df = products_eng_df.merge(order_items_df, on='product_id')\n",
    "\n",
    "products_sales_df.to_csv(prepared_data_folder / 'products_sales.csv', index=False)"
   ]
  },
  {
   "cell_type": "code",
   "execution_count": 37,
   "metadata": {},
   "outputs": [],
   "source": [
    "df = combined_df.copy()\n",
    "# track count if internal ids per order\n",
    "df[\"order_numitems\"] = df.groupby(\"order_id\")[\"order_item_id\"].transform(\"max\")\n",
    "df[\"order_numpayments\"] = df.groupby(\"order_id\")[\"payment_sequential\"].transform(\"max\")\n",
    "\n",
    "# products\n",
    "df[\"total_products_sold\"] = df.groupby([\"product_id\", \"order_item_id\", \"payment_sequential\"]).transform(\"size\")\n",
    "da.wrangle.create_flag(df, col=\"total_products_sold\", flag_col=\"total_products_sold_cat\", \n",
    "    limits=[10, 200, 400], labels=[\"rarely_sold\", \"commonly_sold\", \"frequently_sold\", \"top_seller\"])\n",
    "df[\"avg_products_price\"] = df.groupby([\"product_id\", \"order_item_id\", \"payment_sequential\"])[\"price\"].transform(\"mean\")\n",
    "da.wrangle.create_flag(df, col=\"avg_products_price\", flag_col=\"avg_products_price_cat\", \n",
    "    limits=[1, 100, 1000], labels=[\"cheap\", \"low_priced\", \"high_priced\", \"expensive\"])\n",
    "\n",
    "# payment\n",
    "df[\"order_payment\"] = df.groupby([\"order_id\", \"order_item_id\"])[\"payment_value\"].transform(\"sum\")\n",
    "\n",
    "# order items\n",
    "df[\"order_price\"] = df.groupby([\"order_id\", \"payment_sequential\"])[\"price\"].transform(\"sum\")\n",
    "df[\"order_freight\"] = df.groupby([\"order_id\", \"payment_sequential\"])[\"freight_value\"].transform(\"sum\")\n",
    "\n",
    "# orders\n",
    "df[\"time_to_approve\"] = (df[\"order_approved_at\"] - df[\"order_purchase_timestamp\"]).dt.days\n",
    "df[\"time_to_carrier\"] = (df[\"order_delivered_carrier_date\"] - df[\"order_purchase_timestamp\"]).dt.days\n",
    "df[\"time_to_customer\"] = (df[\"order_delivered_customer_date\"] - df[\"order_purchase_timestamp\"]).dt.days\n",
    "da.wrangle.create_flag(df, col=\"time_to_customer\", flag_col=\"time_to_customer_cat\", \n",
    "    limits=[1, 10, 30], labels=[\"max1day\", \"max10days\", \"max30days\", \"upto209\"])\n",
    "df[\"time_to_customer_est\"] = (df[\"order_estimated_delivery_date\"] - df[\"order_purchase_timestamp\"]).dt.days\n",
    "\n",
    "df.to_csv(prepared_data_folder / 'combined_extended.csv', index=False)"
   ]
  }
 ],
 "metadata": {
  "kernelspec": {
   "display_name": "brazilian-ecommerce-olist",
   "language": "python",
   "name": "python3"
  },
  "language_info": {
   "codemirror_mode": {
    "name": "ipython",
    "version": 3
   },
   "file_extension": ".py",
   "mimetype": "text/x-python",
   "name": "python",
   "nbconvert_exporter": "python",
   "pygments_lexer": "ipython3",
   "version": "3.11.5"
  },
  "orig_nbformat": 4
 },
 "nbformat": 4,
 "nbformat_minor": 2
}
